{
 "cells": [
  {
   "cell_type": "code",
   "execution_count": 20,
   "metadata": {},
   "outputs": [],
   "source": [
    "import pyarrow.parquet as pq\n",
    "import pandas as pd\n",
    "import numpy as np\n",
    "import torch\n",
    "import torch.nn as nn\n",
    "import torch.optim as optim\n",
    "import torch.nn.functional as F\n",
    "import torchvision\n",
    "import torchvision.transforms as transforms\n",
    "import matplotlib.pyplot as plt"
   ]
  },
  {
   "cell_type": "code",
   "execution_count": 21,
   "metadata": {},
   "outputs": [],
   "source": [
    "import warnings\n",
    "warnings.filterwarnings(\"ignore\", category=FutureWarning)"
   ]
  },
  {
   "cell_type": "code",
   "execution_count": 22,
   "metadata": {},
   "outputs": [
    {
     "data": {
      "text/plain": [
       "device(type='cuda')"
      ]
     },
     "execution_count": 22,
     "metadata": {},
     "output_type": "execute_result"
    }
   ],
   "source": [
    "# Set device to GPU if available\n",
    "device = torch.device(\"cuda\" if torch.cuda.is_available() else \"cpu\")\n",
    "device"
   ]
  },
  {
   "cell_type": "code",
   "execution_count": null,
   "metadata": {},
   "outputs": [],
   "source": []
  },
  {
   "cell_type": "code",
   "execution_count": null,
   "metadata": {},
   "outputs": [],
   "source": []
  },
  {
   "cell_type": "code",
   "execution_count": 23,
   "metadata": {},
   "outputs": [],
   "source": [
    "class ResidualBlock(nn.Module):\n",
    "    def __init__(self, in_channels, out_channels, stride=1, downsample=None):\n",
    "        super(ResidualBlock, self).__init__()\n",
    "        \n",
    "        # Convolutional layers\n",
    "        self.convolutionLayer1 = nn.Sequential(\n",
    "            nn.Conv2d(in_channels, out_channels, kernel_size=3, stride=stride ,padding=1),\n",
    "            nn.BatchNorm2d(out_channels),\n",
    "            nn.ReLU())\n",
    "        \n",
    "        \n",
    "        self.convolutionLayer2 = nn.Sequential(\n",
    "            nn.Conv2d(out_channels, out_channels, kernel_size=3, stride=1, padding=1),\n",
    "            nn.BatchNorm2d(out_channels))\n",
    "        \n",
    "        \n",
    "        self.downsample = downsample\n",
    "        self.relu = nn.ReLU()\n",
    "        self.out_channels = out_channels\n",
    "        \n",
    "    # Other stuff\n",
    "    def forward(self, x):\n",
    "        residual = x\n",
    "        output_layer1 = self.convolutionLayer1(x)\n",
    "        output_layer2 = self.convolutionLayer2(output_layer1)\n",
    "        \n",
    "        # Skip Connection\n",
    "        if self.downsample==True:\n",
    "            residual = self.downsample(x)\n",
    "        \n",
    "            output_layer2 += residual\n",
    "        \n",
    "        \n",
    "        # pass through the activation function\n",
    "        output = self.relu(output_layer2)\n",
    "        return output\n"
   ]
  },
  {
   "cell_type": "code",
   "execution_count": 24,
   "metadata": {},
   "outputs": [],
   "source": [
    "class ResidualNeuralNetwork(nn.Module):\n",
    "    \n",
    "    def __init__(self, block, layers, num_classes=10):\n",
    "        super(ResidualNeuralNetwork, self).__init__()\n",
    "        self.inplanes = 64\n",
    "        \n",
    "        # Convolutional layers\n",
    "        \n",
    "        # in_channels = 3 as we have RGB images\n",
    "        # First Convolution Layer with 64 Filters of size 7x7, stride=2 and padding=3\n",
    "        self.convolutionLayer1 = nn.Sequential(\n",
    "            nn.Conv2d(in_channels=3, out_channels=64, kernel_size=7, stride=2, padding=3),\n",
    "            nn.BatchNorm2d(64),\n",
    "            nn.ReLU(),\n",
    "        )\n",
    "        \n",
    "        # Max Pooling layer of size 3x3, stride=2 and padding=1\n",
    "        self.maxpool = nn.MaxPool2d(kernel_size=3, stride=2, padding=1)\n",
    "        \n",
    "        # Accordind to ResNet 34 Layer model we have 3,4,6,3 layers in each block with 64,128,256,512 filters respectively\n",
    "        \n",
    "        # 1st Block of 3 convolution layers of 64 filters of size 3x3\n",
    "        self.layer1 = self.make_newLayer(block,64,layers[0],stride=1)\n",
    "        \n",
    "        # 2nd Block of 4 convolution layers of 128 filters of size 3x3\n",
    "        self.layer2 = self.make_newLayer(block,128,layers[1],stride=2)\n",
    "        \n",
    "        # 3rd Block of 6 convolution layers of 256 filters of size 3x3\n",
    "        self.layer3 = self.make_newLayer(block,256,layers[2],stride=2)\n",
    "        \n",
    "        # 4th Block of 3 convolution layers of 512 filters of size 3x3\n",
    "        self.layer4 = self.make_newLayer(block,512,layers[3],stride=2)\n",
    "        \n",
    "        # Average Pooling Layer\n",
    "        self.average_pool = nn.AvgPool2d(7, stride=1)\n",
    "        \n",
    "        # Fully Connected Layer consisting of 512 neurons\n",
    "        self.FullyConnectedLayer = nn.Linear(512, num_classes)\n",
    "    \n",
    "    def make_newLayer(self, block, planes, blocks, stride=1):\n",
    "        downsample = None\n",
    "        if (stride != 1) or (self.inplanes != planes):\n",
    "            downsample = nn.Sequential(\n",
    "                nn.Conv2d(self.inplanes, planes, kernel_size=1, stride=stride),\n",
    "                nn.BatchNorm2d(planes)\n",
    "            )\n",
    "            \n",
    "        layers = []\n",
    "        layers.append(block(self.inplanes, planes, stride, downsample))\n",
    "        \n",
    "        #update the inplanes\n",
    "        self.inplanes = planes\n",
    "        \n",
    "        #remaining feature maps(blocks)\n",
    "        for i in range(1, blocks):\n",
    "            layers.append(block(self.inplanes, planes))\n",
    "        \n",
    "        return nn.Sequential(*layers)\n",
    "    \n",
    "\n",
    "    def forward(self, x):\n",
    "        \n",
    "        # Convolutional Layers\n",
    "        output = self.convolutionLayer1(x)\n",
    "        output = self.maxpool(output)\n",
    "        \n",
    "        # 4 Residual Blocks\n",
    "        output = self.layer1(output)\n",
    "        output = self.layer2(output)\n",
    "        output = self.layer3(output)\n",
    "        output = self.layer4(output)\n",
    "        \n",
    "        # Average Pooling Layer\n",
    "        output = self.average_pool(output)\n",
    "        \n",
    "        # Fully Connected Layer\n",
    "        output = output.view(output.size(0), -1)\n",
    "        output = self.FullyConnectedLayer(output)\n",
    "        \n",
    "        return output"
   ]
  },
  {
   "cell_type": "code",
   "execution_count": 25,
   "metadata": {},
   "outputs": [],
   "source": [
    "def write_accuracy(message, file_path):\n",
    "    with open(file_path, 'a') as file:\n",
    "        file.write(message)\n",
    "        file.write('\\n')\n",
    "    "
   ]
  },
  {
   "cell_type": "code",
   "execution_count": 26,
   "metadata": {},
   "outputs": [],
   "source": [
    "num_classes = 2\n",
    "learning_rate = 0.001\n",
    "num_epochs = 4\n",
    "\n",
    "model = ResidualNeuralNetwork(ResidualBlock, [2,2,2,2], num_classes).to(device)\n",
    "criterion = nn.CrossEntropyLoss()\n",
    "optimizer = optim.SGD(model.parameters(), lr=learning_rate, momentum=0.9)"
   ]
  },
  {
   "cell_type": "code",
   "execution_count": 27,
   "metadata": {},
   "outputs": [],
   "source": [
    "def ValidationBlock(model):\n",
    "    \n",
    "    valid_set = pd.read_parquet('valid_set.parquet', dtype_backend='pyarrow')\n",
    "    valid_dataset = []\n",
    "    for i in range(300):\n",
    "        valid_dataset.append((torch.tensor(valid_set['X_jets'][i]), valid_set['y'][i]))\n",
    "\n",
    "    batch_size = 16\n",
    "    valid_loader = torch.utils.data.DataLoader(dataset=valid_dataset, batch_size=batch_size, shuffle=False)\n",
    "    \n",
    "    with torch.no_grad():\n",
    "        correct = 0\n",
    "        total = 0\n",
    "        for images, labels in valid_loader:\n",
    "            \n",
    "            # resize images\n",
    "            resize_transform = transforms.Compose([transforms.Resize((224, 224))])\n",
    "            images = resize_transform(images)\n",
    "            \n",
    "            # move to device\n",
    "            images = images.to(device)\n",
    "            labels = labels.to(device)\n",
    "            outputs = model(images)\n",
    "            _, predicted = torch.max(outputs.data, 1)\n",
    "            total += labels.size(0)\n",
    "            correct += (predicted == labels).sum().item()\n",
    "        accuracy = 100 * correct / total\n",
    "        print('Validation accuracy: {} %'.format(accuracy))\n",
    "        write_accuracy('Validation accuracy: {} %'.format(accuracy), 'accuracies.txt')\n",
    "    return model\n",
    "        "
   ]
  },
  {
   "cell_type": "code",
   "execution_count": 28,
   "metadata": {},
   "outputs": [],
   "source": [
    "import gc\n",
    "def TrainBlock(PatchList, model):\n",
    "    \n",
    "    for epoch in range(num_epochs):\n",
    "        batch = 1\n",
    "        for patch in PatchList:\n",
    "            df = pd.read_parquet(patch, dtype_backend='pyarrow')\n",
    "            dataset = []\n",
    "            for i in range(100):\n",
    "                dataset.append((torch.tensor(df['X_jets'][i]), df['y'][i]))\n",
    "            \n",
    "            batch_size = 16\n",
    "            train_loader = torch.utils.data.DataLoader(dataset, batch_size=batch_size, shuffle=True)\n",
    "            \n",
    "            # Train the model\n",
    "            for images, labels in train_loader:\n",
    "                \n",
    "                # resize images\n",
    "                resize_transform = transforms.Compose([transforms.Resize((224, 224))])\n",
    "                arr = [resize_transform(image) for image in images]\n",
    "                \n",
    "                # convert to tensor\n",
    "                images = torch.stack(arr)\n",
    "                \n",
    "                # move to GPU\n",
    "                images = images.to(device)\n",
    "                labels = labels.to(device)\n",
    "                \n",
    "                # Forward pass\n",
    "                outputs = model(images)\n",
    "                loss = criterion(outputs, torch.tensor(labels, dtype=torch.long))\n",
    "                \n",
    "                # Backward and optimize\n",
    "                optimizer.zero_grad()\n",
    "                loss.backward()\n",
    "                optimizer.step()\n",
    "                del images, labels, outputs\n",
    "                torch.cuda.empty_cache()\n",
    "                gc.collect()\n",
    "                print(f\"Epoch [{epoch+1}/{num_epochs}], Batch {batch} Completed\")\n",
    "                batch += 1\n",
    "        print(f\"Epoch [{epoch+1}/{num_epochs}], Loss: {loss.item()}\")\n",
    "        write_accuracy(f\"Epoch [{epoch+1}/{num_epochs}], Loss: {loss.item()}\", 'accuracies.txt')\n",
    "        # Validation\n",
    "        ValidationBlock(model)\n",
    "    \n",
    "    return model\n",
    "                \n",
    "        "
   ]
  },
  {
   "cell_type": "code",
   "execution_count": 29,
   "metadata": {},
   "outputs": [],
   "source": [
    "def TestBlock(PatchList):\n",
    "    \n",
    "    correct = 0\n",
    "    total = 0\n",
    "    for patch in PatchList:\n",
    "        df = pd.read_parquet(patch, dtype_backend='pyarrow')\n",
    "        dataset = []\n",
    "        for i in range(100):\n",
    "            dataset.append((torch.tensor(df['X_jets'][i]), df['y'][i]))\n",
    "        \n",
    "        batch_size = 16\n",
    "        test_loader = torch.utils.data.DataLoader(dataset, batch_size=batch_size, shuffle=False)\n",
    "        \n",
    "        with torch.no_grad():\n",
    "            for images, labels in test_loader:\n",
    "                \n",
    "                # resize images\n",
    "                resize_transform = transforms.Compose([transforms.Resize((224, 224))])\n",
    "                images = resize_transform(images)\n",
    "                \n",
    "                # move to device\n",
    "                images = images.to(device)\n",
    "                labels = labels.to(device)\n",
    "                outputs = model(images)\n",
    "                _, predicted = torch.max(outputs.data, 1)\n",
    "                total += labels.size(0)\n",
    "                correct += (predicted == labels).sum().item()\n",
    "    accuracy = 100 * correct / total\n",
    "    print('Test accuracy: {} %'.format(accuracy))\n",
    "    write_accuracy('Test accuracy: {} %'.format(accuracy), 'accuracies.txt')\n",
    "    return model"
   ]
  },
  {
   "cell_type": "code",
   "execution_count": 30,
   "metadata": {},
   "outputs": [
    {
     "name": "stderr",
     "output_type": "stream",
     "text": [
      "/tmp/ipykernel_17881/2801393153.py:31: UserWarning: To copy construct from a tensor, it is recommended to use sourceTensor.clone().detach() or sourceTensor.clone().detach().requires_grad_(True), rather than torch.tensor(sourceTensor).\n",
      "  loss = criterion(outputs, torch.tensor(labels, dtype=torch.long))\n"
     ]
    },
    {
     "name": "stdout",
     "output_type": "stream",
     "text": [
      "Epoch [1/4], Batch 1 Completed\n",
      "Epoch [1/4], Batch 2 Completed\n",
      "Epoch [1/4], Batch 3 Completed\n",
      "Epoch [1/4], Batch 4 Completed\n",
      "Epoch [1/4], Batch 5 Completed\n",
      "Epoch [1/4], Batch 6 Completed\n",
      "Epoch [1/4], Batch 7 Completed\n"
     ]
    },
    {
     "name": "stderr",
     "output_type": "stream",
     "text": [
      "/tmp/ipykernel_17881/2801393153.py:31: UserWarning: To copy construct from a tensor, it is recommended to use sourceTensor.clone().detach() or sourceTensor.clone().detach().requires_grad_(True), rather than torch.tensor(sourceTensor).\n",
      "  loss = criterion(outputs, torch.tensor(labels, dtype=torch.long))\n"
     ]
    },
    {
     "name": "stdout",
     "output_type": "stream",
     "text": [
      "Epoch [1/4], Batch 8 Completed\n",
      "Epoch [1/4], Batch 9 Completed\n",
      "Epoch [1/4], Batch 10 Completed\n",
      "Epoch [1/4], Batch 11 Completed\n",
      "Epoch [1/4], Batch 12 Completed\n",
      "Epoch [1/4], Batch 13 Completed\n",
      "Epoch [1/4], Batch 14 Completed\n"
     ]
    },
    {
     "name": "stderr",
     "output_type": "stream",
     "text": [
      "/tmp/ipykernel_17881/2801393153.py:31: UserWarning: To copy construct from a tensor, it is recommended to use sourceTensor.clone().detach() or sourceTensor.clone().detach().requires_grad_(True), rather than torch.tensor(sourceTensor).\n",
      "  loss = criterion(outputs, torch.tensor(labels, dtype=torch.long))\n"
     ]
    },
    {
     "name": "stdout",
     "output_type": "stream",
     "text": [
      "Epoch [1/4], Batch 15 Completed\n",
      "Epoch [1/4], Batch 16 Completed\n",
      "Epoch [1/4], Batch 17 Completed\n",
      "Epoch [1/4], Batch 18 Completed\n",
      "Epoch [1/4], Batch 19 Completed\n",
      "Epoch [1/4], Batch 20 Completed\n",
      "Epoch [1/4], Batch 21 Completed\n"
     ]
    },
    {
     "name": "stderr",
     "output_type": "stream",
     "text": [
      "/tmp/ipykernel_17881/2801393153.py:31: UserWarning: To copy construct from a tensor, it is recommended to use sourceTensor.clone().detach() or sourceTensor.clone().detach().requires_grad_(True), rather than torch.tensor(sourceTensor).\n",
      "  loss = criterion(outputs, torch.tensor(labels, dtype=torch.long))\n"
     ]
    },
    {
     "name": "stdout",
     "output_type": "stream",
     "text": [
      "Epoch [1/4], Batch 22 Completed\n",
      "Epoch [1/4], Batch 23 Completed\n",
      "Epoch [1/4], Batch 24 Completed\n",
      "Epoch [1/4], Batch 25 Completed\n",
      "Epoch [1/4], Batch 26 Completed\n",
      "Epoch [1/4], Batch 27 Completed\n",
      "Epoch [1/4], Batch 28 Completed\n"
     ]
    },
    {
     "name": "stderr",
     "output_type": "stream",
     "text": [
      "/tmp/ipykernel_17881/2801393153.py:31: UserWarning: To copy construct from a tensor, it is recommended to use sourceTensor.clone().detach() or sourceTensor.clone().detach().requires_grad_(True), rather than torch.tensor(sourceTensor).\n",
      "  loss = criterion(outputs, torch.tensor(labels, dtype=torch.long))\n"
     ]
    },
    {
     "name": "stdout",
     "output_type": "stream",
     "text": [
      "Epoch [1/4], Batch 29 Completed\n",
      "Epoch [1/4], Batch 30 Completed\n",
      "Epoch [1/4], Batch 31 Completed\n",
      "Epoch [1/4], Batch 32 Completed\n",
      "Epoch [1/4], Batch 33 Completed\n",
      "Epoch [1/4], Batch 34 Completed\n",
      "Epoch [1/4], Batch 35 Completed\n"
     ]
    },
    {
     "name": "stderr",
     "output_type": "stream",
     "text": [
      "/tmp/ipykernel_17881/2801393153.py:31: UserWarning: To copy construct from a tensor, it is recommended to use sourceTensor.clone().detach() or sourceTensor.clone().detach().requires_grad_(True), rather than torch.tensor(sourceTensor).\n",
      "  loss = criterion(outputs, torch.tensor(labels, dtype=torch.long))\n"
     ]
    },
    {
     "name": "stdout",
     "output_type": "stream",
     "text": [
      "Epoch [1/4], Batch 36 Completed\n",
      "Epoch [1/4], Batch 37 Completed\n",
      "Epoch [1/4], Batch 38 Completed\n",
      "Epoch [1/4], Batch 39 Completed\n",
      "Epoch [1/4], Batch 40 Completed\n",
      "Epoch [1/4], Batch 41 Completed\n",
      "Epoch [1/4], Batch 42 Completed\n"
     ]
    },
    {
     "name": "stderr",
     "output_type": "stream",
     "text": [
      "/tmp/ipykernel_17881/2801393153.py:31: UserWarning: To copy construct from a tensor, it is recommended to use sourceTensor.clone().detach() or sourceTensor.clone().detach().requires_grad_(True), rather than torch.tensor(sourceTensor).\n",
      "  loss = criterion(outputs, torch.tensor(labels, dtype=torch.long))\n"
     ]
    },
    {
     "name": "stdout",
     "output_type": "stream",
     "text": [
      "Epoch [1/4], Batch 43 Completed\n",
      "Epoch [1/4], Batch 44 Completed\n",
      "Epoch [1/4], Batch 45 Completed\n",
      "Epoch [1/4], Batch 46 Completed\n",
      "Epoch [1/4], Batch 47 Completed\n",
      "Epoch [1/4], Batch 48 Completed\n",
      "Epoch [1/4], Batch 49 Completed\n"
     ]
    },
    {
     "name": "stderr",
     "output_type": "stream",
     "text": [
      "/tmp/ipykernel_17881/2801393153.py:31: UserWarning: To copy construct from a tensor, it is recommended to use sourceTensor.clone().detach() or sourceTensor.clone().detach().requires_grad_(True), rather than torch.tensor(sourceTensor).\n",
      "  loss = criterion(outputs, torch.tensor(labels, dtype=torch.long))\n"
     ]
    },
    {
     "name": "stdout",
     "output_type": "stream",
     "text": [
      "Epoch [1/4], Batch 50 Completed\n",
      "Epoch [1/4], Batch 51 Completed\n",
      "Epoch [1/4], Batch 52 Completed\n",
      "Epoch [1/4], Batch 53 Completed\n",
      "Epoch [1/4], Batch 54 Completed\n",
      "Epoch [1/4], Batch 55 Completed\n",
      "Epoch [1/4], Batch 56 Completed\n"
     ]
    },
    {
     "name": "stderr",
     "output_type": "stream",
     "text": [
      "/tmp/ipykernel_17881/2801393153.py:31: UserWarning: To copy construct from a tensor, it is recommended to use sourceTensor.clone().detach() or sourceTensor.clone().detach().requires_grad_(True), rather than torch.tensor(sourceTensor).\n",
      "  loss = criterion(outputs, torch.tensor(labels, dtype=torch.long))\n"
     ]
    },
    {
     "name": "stdout",
     "output_type": "stream",
     "text": [
      "Epoch [1/4], Batch 57 Completed\n",
      "Epoch [1/4], Batch 58 Completed\n",
      "Epoch [1/4], Batch 59 Completed\n",
      "Epoch [1/4], Batch 60 Completed\n",
      "Epoch [1/4], Batch 61 Completed\n",
      "Epoch [1/4], Batch 62 Completed\n",
      "Epoch [1/4], Batch 63 Completed\n"
     ]
    },
    {
     "name": "stderr",
     "output_type": "stream",
     "text": [
      "/tmp/ipykernel_17881/2801393153.py:31: UserWarning: To copy construct from a tensor, it is recommended to use sourceTensor.clone().detach() or sourceTensor.clone().detach().requires_grad_(True), rather than torch.tensor(sourceTensor).\n",
      "  loss = criterion(outputs, torch.tensor(labels, dtype=torch.long))\n"
     ]
    },
    {
     "name": "stdout",
     "output_type": "stream",
     "text": [
      "Epoch [1/4], Batch 64 Completed\n",
      "Epoch [1/4], Batch 65 Completed\n",
      "Epoch [1/4], Batch 66 Completed\n",
      "Epoch [1/4], Batch 67 Completed\n",
      "Epoch [1/4], Batch 68 Completed\n",
      "Epoch [1/4], Batch 69 Completed\n",
      "Epoch [1/4], Batch 70 Completed\n"
     ]
    },
    {
     "name": "stderr",
     "output_type": "stream",
     "text": [
      "/tmp/ipykernel_17881/2801393153.py:31: UserWarning: To copy construct from a tensor, it is recommended to use sourceTensor.clone().detach() or sourceTensor.clone().detach().requires_grad_(True), rather than torch.tensor(sourceTensor).\n",
      "  loss = criterion(outputs, torch.tensor(labels, dtype=torch.long))\n"
     ]
    },
    {
     "name": "stdout",
     "output_type": "stream",
     "text": [
      "Epoch [1/4], Batch 71 Completed\n",
      "Epoch [1/4], Batch 72 Completed\n",
      "Epoch [1/4], Batch 73 Completed\n",
      "Epoch [1/4], Batch 74 Completed\n",
      "Epoch [1/4], Batch 75 Completed\n",
      "Epoch [1/4], Batch 76 Completed\n",
      "Epoch [1/4], Batch 77 Completed\n",
      "Epoch [1/4], Loss: 0.6887540817260742\n",
      "Validation accuracy: 66.0 %\n"
     ]
    },
    {
     "name": "stderr",
     "output_type": "stream",
     "text": [
      "/tmp/ipykernel_17881/2801393153.py:31: UserWarning: To copy construct from a tensor, it is recommended to use sourceTensor.clone().detach() or sourceTensor.clone().detach().requires_grad_(True), rather than torch.tensor(sourceTensor).\n",
      "  loss = criterion(outputs, torch.tensor(labels, dtype=torch.long))\n"
     ]
    },
    {
     "name": "stdout",
     "output_type": "stream",
     "text": [
      "Epoch [2/4], Batch 1 Completed\n",
      "Epoch [2/4], Batch 2 Completed\n",
      "Epoch [2/4], Batch 3 Completed\n",
      "Epoch [2/4], Batch 4 Completed\n",
      "Epoch [2/4], Batch 5 Completed\n",
      "Epoch [2/4], Batch 6 Completed\n",
      "Epoch [2/4], Batch 7 Completed\n"
     ]
    },
    {
     "name": "stderr",
     "output_type": "stream",
     "text": [
      "/tmp/ipykernel_17881/2801393153.py:31: UserWarning: To copy construct from a tensor, it is recommended to use sourceTensor.clone().detach() or sourceTensor.clone().detach().requires_grad_(True), rather than torch.tensor(sourceTensor).\n",
      "  loss = criterion(outputs, torch.tensor(labels, dtype=torch.long))\n"
     ]
    },
    {
     "name": "stdout",
     "output_type": "stream",
     "text": [
      "Epoch [2/4], Batch 8 Completed\n",
      "Epoch [2/4], Batch 9 Completed\n",
      "Epoch [2/4], Batch 10 Completed\n",
      "Epoch [2/4], Batch 11 Completed\n",
      "Epoch [2/4], Batch 12 Completed\n",
      "Epoch [2/4], Batch 13 Completed\n",
      "Epoch [2/4], Batch 14 Completed\n"
     ]
    },
    {
     "name": "stderr",
     "output_type": "stream",
     "text": [
      "/tmp/ipykernel_17881/2801393153.py:31: UserWarning: To copy construct from a tensor, it is recommended to use sourceTensor.clone().detach() or sourceTensor.clone().detach().requires_grad_(True), rather than torch.tensor(sourceTensor).\n",
      "  loss = criterion(outputs, torch.tensor(labels, dtype=torch.long))\n"
     ]
    },
    {
     "name": "stdout",
     "output_type": "stream",
     "text": [
      "Epoch [2/4], Batch 15 Completed\n",
      "Epoch [2/4], Batch 16 Completed\n",
      "Epoch [2/4], Batch 17 Completed\n",
      "Epoch [2/4], Batch 18 Completed\n",
      "Epoch [2/4], Batch 19 Completed\n",
      "Epoch [2/4], Batch 20 Completed\n",
      "Epoch [2/4], Batch 21 Completed\n"
     ]
    },
    {
     "name": "stderr",
     "output_type": "stream",
     "text": [
      "/tmp/ipykernel_17881/2801393153.py:31: UserWarning: To copy construct from a tensor, it is recommended to use sourceTensor.clone().detach() or sourceTensor.clone().detach().requires_grad_(True), rather than torch.tensor(sourceTensor).\n",
      "  loss = criterion(outputs, torch.tensor(labels, dtype=torch.long))\n"
     ]
    },
    {
     "name": "stdout",
     "output_type": "stream",
     "text": [
      "Epoch [2/4], Batch 22 Completed\n",
      "Epoch [2/4], Batch 23 Completed\n",
      "Epoch [2/4], Batch 24 Completed\n",
      "Epoch [2/4], Batch 25 Completed\n",
      "Epoch [2/4], Batch 26 Completed\n",
      "Epoch [2/4], Batch 27 Completed\n",
      "Epoch [2/4], Batch 28 Completed\n"
     ]
    },
    {
     "name": "stderr",
     "output_type": "stream",
     "text": [
      "/tmp/ipykernel_17881/2801393153.py:31: UserWarning: To copy construct from a tensor, it is recommended to use sourceTensor.clone().detach() or sourceTensor.clone().detach().requires_grad_(True), rather than torch.tensor(sourceTensor).\n",
      "  loss = criterion(outputs, torch.tensor(labels, dtype=torch.long))\n"
     ]
    },
    {
     "name": "stdout",
     "output_type": "stream",
     "text": [
      "Epoch [2/4], Batch 29 Completed\n",
      "Epoch [2/4], Batch 30 Completed\n",
      "Epoch [2/4], Batch 31 Completed\n",
      "Epoch [2/4], Batch 32 Completed\n",
      "Epoch [2/4], Batch 33 Completed\n",
      "Epoch [2/4], Batch 34 Completed\n",
      "Epoch [2/4], Batch 35 Completed\n"
     ]
    },
    {
     "name": "stderr",
     "output_type": "stream",
     "text": [
      "/tmp/ipykernel_17881/2801393153.py:31: UserWarning: To copy construct from a tensor, it is recommended to use sourceTensor.clone().detach() or sourceTensor.clone().detach().requires_grad_(True), rather than torch.tensor(sourceTensor).\n",
      "  loss = criterion(outputs, torch.tensor(labels, dtype=torch.long))\n"
     ]
    },
    {
     "name": "stdout",
     "output_type": "stream",
     "text": [
      "Epoch [2/4], Batch 36 Completed\n",
      "Epoch [2/4], Batch 37 Completed\n",
      "Epoch [2/4], Batch 38 Completed\n",
      "Epoch [2/4], Batch 39 Completed\n",
      "Epoch [2/4], Batch 40 Completed\n",
      "Epoch [2/4], Batch 41 Completed\n",
      "Epoch [2/4], Batch 42 Completed\n"
     ]
    },
    {
     "name": "stderr",
     "output_type": "stream",
     "text": [
      "/tmp/ipykernel_17881/2801393153.py:31: UserWarning: To copy construct from a tensor, it is recommended to use sourceTensor.clone().detach() or sourceTensor.clone().detach().requires_grad_(True), rather than torch.tensor(sourceTensor).\n",
      "  loss = criterion(outputs, torch.tensor(labels, dtype=torch.long))\n"
     ]
    },
    {
     "name": "stdout",
     "output_type": "stream",
     "text": [
      "Epoch [2/4], Batch 43 Completed\n",
      "Epoch [2/4], Batch 44 Completed\n",
      "Epoch [2/4], Batch 45 Completed\n",
      "Epoch [2/4], Batch 46 Completed\n",
      "Epoch [2/4], Batch 47 Completed\n",
      "Epoch [2/4], Batch 48 Completed\n",
      "Epoch [2/4], Batch 49 Completed\n"
     ]
    },
    {
     "name": "stderr",
     "output_type": "stream",
     "text": [
      "/tmp/ipykernel_17881/2801393153.py:31: UserWarning: To copy construct from a tensor, it is recommended to use sourceTensor.clone().detach() or sourceTensor.clone().detach().requires_grad_(True), rather than torch.tensor(sourceTensor).\n",
      "  loss = criterion(outputs, torch.tensor(labels, dtype=torch.long))\n"
     ]
    },
    {
     "name": "stdout",
     "output_type": "stream",
     "text": [
      "Epoch [2/4], Batch 50 Completed\n",
      "Epoch [2/4], Batch 51 Completed\n",
      "Epoch [2/4], Batch 52 Completed\n",
      "Epoch [2/4], Batch 53 Completed\n",
      "Epoch [2/4], Batch 54 Completed\n",
      "Epoch [2/4], Batch 55 Completed\n",
      "Epoch [2/4], Batch 56 Completed\n"
     ]
    },
    {
     "name": "stderr",
     "output_type": "stream",
     "text": [
      "/tmp/ipykernel_17881/2801393153.py:31: UserWarning: To copy construct from a tensor, it is recommended to use sourceTensor.clone().detach() or sourceTensor.clone().detach().requires_grad_(True), rather than torch.tensor(sourceTensor).\n",
      "  loss = criterion(outputs, torch.tensor(labels, dtype=torch.long))\n"
     ]
    },
    {
     "name": "stdout",
     "output_type": "stream",
     "text": [
      "Epoch [2/4], Batch 57 Completed\n",
      "Epoch [2/4], Batch 58 Completed\n",
      "Epoch [2/4], Batch 59 Completed\n",
      "Epoch [2/4], Batch 60 Completed\n",
      "Epoch [2/4], Batch 61 Completed\n",
      "Epoch [2/4], Batch 62 Completed\n",
      "Epoch [2/4], Batch 63 Completed\n"
     ]
    },
    {
     "name": "stderr",
     "output_type": "stream",
     "text": [
      "/tmp/ipykernel_17881/2801393153.py:31: UserWarning: To copy construct from a tensor, it is recommended to use sourceTensor.clone().detach() or sourceTensor.clone().detach().requires_grad_(True), rather than torch.tensor(sourceTensor).\n",
      "  loss = criterion(outputs, torch.tensor(labels, dtype=torch.long))\n"
     ]
    },
    {
     "name": "stdout",
     "output_type": "stream",
     "text": [
      "Epoch [2/4], Batch 64 Completed\n",
      "Epoch [2/4], Batch 65 Completed\n",
      "Epoch [2/4], Batch 66 Completed\n",
      "Epoch [2/4], Batch 67 Completed\n",
      "Epoch [2/4], Batch 68 Completed\n",
      "Epoch [2/4], Batch 69 Completed\n",
      "Epoch [2/4], Batch 70 Completed\n"
     ]
    },
    {
     "name": "stderr",
     "output_type": "stream",
     "text": [
      "/tmp/ipykernel_17881/2801393153.py:31: UserWarning: To copy construct from a tensor, it is recommended to use sourceTensor.clone().detach() or sourceTensor.clone().detach().requires_grad_(True), rather than torch.tensor(sourceTensor).\n",
      "  loss = criterion(outputs, torch.tensor(labels, dtype=torch.long))\n"
     ]
    },
    {
     "name": "stdout",
     "output_type": "stream",
     "text": [
      "Epoch [2/4], Batch 71 Completed\n",
      "Epoch [2/4], Batch 72 Completed\n",
      "Epoch [2/4], Batch 73 Completed\n",
      "Epoch [2/4], Batch 74 Completed\n",
      "Epoch [2/4], Batch 75 Completed\n",
      "Epoch [2/4], Batch 76 Completed\n",
      "Epoch [2/4], Batch 77 Completed\n",
      "Epoch [2/4], Loss: 0.551419734954834\n",
      "Validation accuracy: 66.33333333333333 %\n"
     ]
    },
    {
     "name": "stderr",
     "output_type": "stream",
     "text": [
      "/tmp/ipykernel_17881/2801393153.py:31: UserWarning: To copy construct from a tensor, it is recommended to use sourceTensor.clone().detach() or sourceTensor.clone().detach().requires_grad_(True), rather than torch.tensor(sourceTensor).\n",
      "  loss = criterion(outputs, torch.tensor(labels, dtype=torch.long))\n"
     ]
    },
    {
     "name": "stdout",
     "output_type": "stream",
     "text": [
      "Epoch [3/4], Batch 1 Completed\n",
      "Epoch [3/4], Batch 2 Completed\n",
      "Epoch [3/4], Batch 3 Completed\n",
      "Epoch [3/4], Batch 4 Completed\n",
      "Epoch [3/4], Batch 5 Completed\n",
      "Epoch [3/4], Batch 6 Completed\n",
      "Epoch [3/4], Batch 7 Completed\n"
     ]
    },
    {
     "name": "stderr",
     "output_type": "stream",
     "text": [
      "/tmp/ipykernel_17881/2801393153.py:31: UserWarning: To copy construct from a tensor, it is recommended to use sourceTensor.clone().detach() or sourceTensor.clone().detach().requires_grad_(True), rather than torch.tensor(sourceTensor).\n",
      "  loss = criterion(outputs, torch.tensor(labels, dtype=torch.long))\n"
     ]
    },
    {
     "name": "stdout",
     "output_type": "stream",
     "text": [
      "Epoch [3/4], Batch 8 Completed\n",
      "Epoch [3/4], Batch 9 Completed\n",
      "Epoch [3/4], Batch 10 Completed\n",
      "Epoch [3/4], Batch 11 Completed\n",
      "Epoch [3/4], Batch 12 Completed\n",
      "Epoch [3/4], Batch 13 Completed\n",
      "Epoch [3/4], Batch 14 Completed\n"
     ]
    },
    {
     "name": "stderr",
     "output_type": "stream",
     "text": [
      "/tmp/ipykernel_17881/2801393153.py:31: UserWarning: To copy construct from a tensor, it is recommended to use sourceTensor.clone().detach() or sourceTensor.clone().detach().requires_grad_(True), rather than torch.tensor(sourceTensor).\n",
      "  loss = criterion(outputs, torch.tensor(labels, dtype=torch.long))\n"
     ]
    },
    {
     "name": "stdout",
     "output_type": "stream",
     "text": [
      "Epoch [3/4], Batch 15 Completed\n",
      "Epoch [3/4], Batch 16 Completed\n",
      "Epoch [3/4], Batch 17 Completed\n",
      "Epoch [3/4], Batch 18 Completed\n",
      "Epoch [3/4], Batch 19 Completed\n",
      "Epoch [3/4], Batch 20 Completed\n",
      "Epoch [3/4], Batch 21 Completed\n"
     ]
    },
    {
     "name": "stderr",
     "output_type": "stream",
     "text": [
      "/tmp/ipykernel_17881/2801393153.py:31: UserWarning: To copy construct from a tensor, it is recommended to use sourceTensor.clone().detach() or sourceTensor.clone().detach().requires_grad_(True), rather than torch.tensor(sourceTensor).\n",
      "  loss = criterion(outputs, torch.tensor(labels, dtype=torch.long))\n"
     ]
    },
    {
     "name": "stdout",
     "output_type": "stream",
     "text": [
      "Epoch [3/4], Batch 22 Completed\n",
      "Epoch [3/4], Batch 23 Completed\n",
      "Epoch [3/4], Batch 24 Completed\n",
      "Epoch [3/4], Batch 25 Completed\n",
      "Epoch [3/4], Batch 26 Completed\n",
      "Epoch [3/4], Batch 27 Completed\n",
      "Epoch [3/4], Batch 28 Completed\n"
     ]
    },
    {
     "name": "stderr",
     "output_type": "stream",
     "text": [
      "/tmp/ipykernel_17881/2801393153.py:31: UserWarning: To copy construct from a tensor, it is recommended to use sourceTensor.clone().detach() or sourceTensor.clone().detach().requires_grad_(True), rather than torch.tensor(sourceTensor).\n",
      "  loss = criterion(outputs, torch.tensor(labels, dtype=torch.long))\n"
     ]
    },
    {
     "name": "stdout",
     "output_type": "stream",
     "text": [
      "Epoch [3/4], Batch 29 Completed\n",
      "Epoch [3/4], Batch 30 Completed\n",
      "Epoch [3/4], Batch 31 Completed\n",
      "Epoch [3/4], Batch 32 Completed\n",
      "Epoch [3/4], Batch 33 Completed\n",
      "Epoch [3/4], Batch 34 Completed\n",
      "Epoch [3/4], Batch 35 Completed\n"
     ]
    },
    {
     "name": "stderr",
     "output_type": "stream",
     "text": [
      "/tmp/ipykernel_17881/2801393153.py:31: UserWarning: To copy construct from a tensor, it is recommended to use sourceTensor.clone().detach() or sourceTensor.clone().detach().requires_grad_(True), rather than torch.tensor(sourceTensor).\n",
      "  loss = criterion(outputs, torch.tensor(labels, dtype=torch.long))\n"
     ]
    },
    {
     "name": "stdout",
     "output_type": "stream",
     "text": [
      "Epoch [3/4], Batch 36 Completed\n",
      "Epoch [3/4], Batch 37 Completed\n",
      "Epoch [3/4], Batch 38 Completed\n",
      "Epoch [3/4], Batch 39 Completed\n",
      "Epoch [3/4], Batch 40 Completed\n",
      "Epoch [3/4], Batch 41 Completed\n",
      "Epoch [3/4], Batch 42 Completed\n"
     ]
    },
    {
     "name": "stderr",
     "output_type": "stream",
     "text": [
      "/tmp/ipykernel_17881/2801393153.py:31: UserWarning: To copy construct from a tensor, it is recommended to use sourceTensor.clone().detach() or sourceTensor.clone().detach().requires_grad_(True), rather than torch.tensor(sourceTensor).\n",
      "  loss = criterion(outputs, torch.tensor(labels, dtype=torch.long))\n"
     ]
    },
    {
     "name": "stdout",
     "output_type": "stream",
     "text": [
      "Epoch [3/4], Batch 43 Completed\n",
      "Epoch [3/4], Batch 44 Completed\n",
      "Epoch [3/4], Batch 45 Completed\n",
      "Epoch [3/4], Batch 46 Completed\n",
      "Epoch [3/4], Batch 47 Completed\n",
      "Epoch [3/4], Batch 48 Completed\n",
      "Epoch [3/4], Batch 49 Completed\n"
     ]
    },
    {
     "name": "stderr",
     "output_type": "stream",
     "text": [
      "/tmp/ipykernel_17881/2801393153.py:31: UserWarning: To copy construct from a tensor, it is recommended to use sourceTensor.clone().detach() or sourceTensor.clone().detach().requires_grad_(True), rather than torch.tensor(sourceTensor).\n",
      "  loss = criterion(outputs, torch.tensor(labels, dtype=torch.long))\n"
     ]
    },
    {
     "name": "stdout",
     "output_type": "stream",
     "text": [
      "Epoch [3/4], Batch 50 Completed\n",
      "Epoch [3/4], Batch 51 Completed\n",
      "Epoch [3/4], Batch 52 Completed\n",
      "Epoch [3/4], Batch 53 Completed\n",
      "Epoch [3/4], Batch 54 Completed\n",
      "Epoch [3/4], Batch 55 Completed\n",
      "Epoch [3/4], Batch 56 Completed\n"
     ]
    },
    {
     "name": "stderr",
     "output_type": "stream",
     "text": [
      "/tmp/ipykernel_17881/2801393153.py:31: UserWarning: To copy construct from a tensor, it is recommended to use sourceTensor.clone().detach() or sourceTensor.clone().detach().requires_grad_(True), rather than torch.tensor(sourceTensor).\n",
      "  loss = criterion(outputs, torch.tensor(labels, dtype=torch.long))\n"
     ]
    },
    {
     "name": "stdout",
     "output_type": "stream",
     "text": [
      "Epoch [3/4], Batch 57 Completed\n",
      "Epoch [3/4], Batch 58 Completed\n",
      "Epoch [3/4], Batch 59 Completed\n",
      "Epoch [3/4], Batch 60 Completed\n",
      "Epoch [3/4], Batch 61 Completed\n",
      "Epoch [3/4], Batch 62 Completed\n",
      "Epoch [3/4], Batch 63 Completed\n"
     ]
    },
    {
     "name": "stderr",
     "output_type": "stream",
     "text": [
      "/tmp/ipykernel_17881/2801393153.py:31: UserWarning: To copy construct from a tensor, it is recommended to use sourceTensor.clone().detach() or sourceTensor.clone().detach().requires_grad_(True), rather than torch.tensor(sourceTensor).\n",
      "  loss = criterion(outputs, torch.tensor(labels, dtype=torch.long))\n"
     ]
    },
    {
     "name": "stdout",
     "output_type": "stream",
     "text": [
      "Epoch [3/4], Batch 64 Completed\n",
      "Epoch [3/4], Batch 65 Completed\n",
      "Epoch [3/4], Batch 66 Completed\n",
      "Epoch [3/4], Batch 67 Completed\n",
      "Epoch [3/4], Batch 68 Completed\n",
      "Epoch [3/4], Batch 69 Completed\n",
      "Epoch [3/4], Batch 70 Completed\n"
     ]
    },
    {
     "name": "stderr",
     "output_type": "stream",
     "text": [
      "/tmp/ipykernel_17881/2801393153.py:31: UserWarning: To copy construct from a tensor, it is recommended to use sourceTensor.clone().detach() or sourceTensor.clone().detach().requires_grad_(True), rather than torch.tensor(sourceTensor).\n",
      "  loss = criterion(outputs, torch.tensor(labels, dtype=torch.long))\n"
     ]
    },
    {
     "name": "stdout",
     "output_type": "stream",
     "text": [
      "Epoch [3/4], Batch 71 Completed\n",
      "Epoch [3/4], Batch 72 Completed\n",
      "Epoch [3/4], Batch 73 Completed\n",
      "Epoch [3/4], Batch 74 Completed\n",
      "Epoch [3/4], Batch 75 Completed\n",
      "Epoch [3/4], Batch 76 Completed\n",
      "Epoch [3/4], Batch 77 Completed\n",
      "Epoch [3/4], Loss: 0.42632734775543213\n",
      "Validation accuracy: 66.0 %\n"
     ]
    },
    {
     "name": "stderr",
     "output_type": "stream",
     "text": [
      "/tmp/ipykernel_17881/2801393153.py:31: UserWarning: To copy construct from a tensor, it is recommended to use sourceTensor.clone().detach() or sourceTensor.clone().detach().requires_grad_(True), rather than torch.tensor(sourceTensor).\n",
      "  loss = criterion(outputs, torch.tensor(labels, dtype=torch.long))\n"
     ]
    },
    {
     "name": "stdout",
     "output_type": "stream",
     "text": [
      "Epoch [4/4], Batch 1 Completed\n",
      "Epoch [4/4], Batch 2 Completed\n",
      "Epoch [4/4], Batch 3 Completed\n",
      "Epoch [4/4], Batch 4 Completed\n",
      "Epoch [4/4], Batch 5 Completed\n",
      "Epoch [4/4], Batch 6 Completed\n",
      "Epoch [4/4], Batch 7 Completed\n"
     ]
    },
    {
     "name": "stderr",
     "output_type": "stream",
     "text": [
      "/tmp/ipykernel_17881/2801393153.py:31: UserWarning: To copy construct from a tensor, it is recommended to use sourceTensor.clone().detach() or sourceTensor.clone().detach().requires_grad_(True), rather than torch.tensor(sourceTensor).\n",
      "  loss = criterion(outputs, torch.tensor(labels, dtype=torch.long))\n"
     ]
    },
    {
     "name": "stdout",
     "output_type": "stream",
     "text": [
      "Epoch [4/4], Batch 8 Completed\n",
      "Epoch [4/4], Batch 9 Completed\n",
      "Epoch [4/4], Batch 10 Completed\n",
      "Epoch [4/4], Batch 11 Completed\n",
      "Epoch [4/4], Batch 12 Completed\n",
      "Epoch [4/4], Batch 13 Completed\n",
      "Epoch [4/4], Batch 14 Completed\n"
     ]
    },
    {
     "name": "stderr",
     "output_type": "stream",
     "text": [
      "/tmp/ipykernel_17881/2801393153.py:31: UserWarning: To copy construct from a tensor, it is recommended to use sourceTensor.clone().detach() or sourceTensor.clone().detach().requires_grad_(True), rather than torch.tensor(sourceTensor).\n",
      "  loss = criterion(outputs, torch.tensor(labels, dtype=torch.long))\n"
     ]
    },
    {
     "name": "stdout",
     "output_type": "stream",
     "text": [
      "Epoch [4/4], Batch 15 Completed\n",
      "Epoch [4/4], Batch 16 Completed\n",
      "Epoch [4/4], Batch 17 Completed\n",
      "Epoch [4/4], Batch 18 Completed\n",
      "Epoch [4/4], Batch 19 Completed\n",
      "Epoch [4/4], Batch 20 Completed\n",
      "Epoch [4/4], Batch 21 Completed\n"
     ]
    },
    {
     "name": "stderr",
     "output_type": "stream",
     "text": [
      "/tmp/ipykernel_17881/2801393153.py:31: UserWarning: To copy construct from a tensor, it is recommended to use sourceTensor.clone().detach() or sourceTensor.clone().detach().requires_grad_(True), rather than torch.tensor(sourceTensor).\n",
      "  loss = criterion(outputs, torch.tensor(labels, dtype=torch.long))\n"
     ]
    },
    {
     "name": "stdout",
     "output_type": "stream",
     "text": [
      "Epoch [4/4], Batch 22 Completed\n",
      "Epoch [4/4], Batch 23 Completed\n",
      "Epoch [4/4], Batch 24 Completed\n",
      "Epoch [4/4], Batch 25 Completed\n",
      "Epoch [4/4], Batch 26 Completed\n",
      "Epoch [4/4], Batch 27 Completed\n",
      "Epoch [4/4], Batch 28 Completed\n"
     ]
    },
    {
     "name": "stderr",
     "output_type": "stream",
     "text": [
      "/tmp/ipykernel_17881/2801393153.py:31: UserWarning: To copy construct from a tensor, it is recommended to use sourceTensor.clone().detach() or sourceTensor.clone().detach().requires_grad_(True), rather than torch.tensor(sourceTensor).\n",
      "  loss = criterion(outputs, torch.tensor(labels, dtype=torch.long))\n"
     ]
    },
    {
     "name": "stdout",
     "output_type": "stream",
     "text": [
      "Epoch [4/4], Batch 29 Completed\n",
      "Epoch [4/4], Batch 30 Completed\n",
      "Epoch [4/4], Batch 31 Completed\n",
      "Epoch [4/4], Batch 32 Completed\n",
      "Epoch [4/4], Batch 33 Completed\n",
      "Epoch [4/4], Batch 34 Completed\n",
      "Epoch [4/4], Batch 35 Completed\n"
     ]
    },
    {
     "name": "stderr",
     "output_type": "stream",
     "text": [
      "/tmp/ipykernel_17881/2801393153.py:31: UserWarning: To copy construct from a tensor, it is recommended to use sourceTensor.clone().detach() or sourceTensor.clone().detach().requires_grad_(True), rather than torch.tensor(sourceTensor).\n",
      "  loss = criterion(outputs, torch.tensor(labels, dtype=torch.long))\n"
     ]
    },
    {
     "name": "stdout",
     "output_type": "stream",
     "text": [
      "Epoch [4/4], Batch 36 Completed\n",
      "Epoch [4/4], Batch 37 Completed\n",
      "Epoch [4/4], Batch 38 Completed\n",
      "Epoch [4/4], Batch 39 Completed\n",
      "Epoch [4/4], Batch 40 Completed\n",
      "Epoch [4/4], Batch 41 Completed\n",
      "Epoch [4/4], Batch 42 Completed\n"
     ]
    },
    {
     "name": "stderr",
     "output_type": "stream",
     "text": [
      "/tmp/ipykernel_17881/2801393153.py:31: UserWarning: To copy construct from a tensor, it is recommended to use sourceTensor.clone().detach() or sourceTensor.clone().detach().requires_grad_(True), rather than torch.tensor(sourceTensor).\n",
      "  loss = criterion(outputs, torch.tensor(labels, dtype=torch.long))\n"
     ]
    },
    {
     "name": "stdout",
     "output_type": "stream",
     "text": [
      "Epoch [4/4], Batch 43 Completed\n",
      "Epoch [4/4], Batch 44 Completed\n",
      "Epoch [4/4], Batch 45 Completed\n",
      "Epoch [4/4], Batch 46 Completed\n",
      "Epoch [4/4], Batch 47 Completed\n",
      "Epoch [4/4], Batch 48 Completed\n",
      "Epoch [4/4], Batch 49 Completed\n"
     ]
    },
    {
     "name": "stderr",
     "output_type": "stream",
     "text": [
      "/tmp/ipykernel_17881/2801393153.py:31: UserWarning: To copy construct from a tensor, it is recommended to use sourceTensor.clone().detach() or sourceTensor.clone().detach().requires_grad_(True), rather than torch.tensor(sourceTensor).\n",
      "  loss = criterion(outputs, torch.tensor(labels, dtype=torch.long))\n"
     ]
    },
    {
     "name": "stdout",
     "output_type": "stream",
     "text": [
      "Epoch [4/4], Batch 50 Completed\n",
      "Epoch [4/4], Batch 51 Completed\n",
      "Epoch [4/4], Batch 52 Completed\n",
      "Epoch [4/4], Batch 53 Completed\n",
      "Epoch [4/4], Batch 54 Completed\n",
      "Epoch [4/4], Batch 55 Completed\n",
      "Epoch [4/4], Batch 56 Completed\n"
     ]
    },
    {
     "name": "stderr",
     "output_type": "stream",
     "text": [
      "/tmp/ipykernel_17881/2801393153.py:31: UserWarning: To copy construct from a tensor, it is recommended to use sourceTensor.clone().detach() or sourceTensor.clone().detach().requires_grad_(True), rather than torch.tensor(sourceTensor).\n",
      "  loss = criterion(outputs, torch.tensor(labels, dtype=torch.long))\n"
     ]
    },
    {
     "name": "stdout",
     "output_type": "stream",
     "text": [
      "Epoch [4/4], Batch 57 Completed\n",
      "Epoch [4/4], Batch 58 Completed\n",
      "Epoch [4/4], Batch 59 Completed\n",
      "Epoch [4/4], Batch 60 Completed\n",
      "Epoch [4/4], Batch 61 Completed\n",
      "Epoch [4/4], Batch 62 Completed\n",
      "Epoch [4/4], Batch 63 Completed\n"
     ]
    },
    {
     "name": "stderr",
     "output_type": "stream",
     "text": [
      "/tmp/ipykernel_17881/2801393153.py:31: UserWarning: To copy construct from a tensor, it is recommended to use sourceTensor.clone().detach() or sourceTensor.clone().detach().requires_grad_(True), rather than torch.tensor(sourceTensor).\n",
      "  loss = criterion(outputs, torch.tensor(labels, dtype=torch.long))\n"
     ]
    },
    {
     "name": "stdout",
     "output_type": "stream",
     "text": [
      "Epoch [4/4], Batch 64 Completed\n",
      "Epoch [4/4], Batch 65 Completed\n",
      "Epoch [4/4], Batch 66 Completed\n",
      "Epoch [4/4], Batch 67 Completed\n",
      "Epoch [4/4], Batch 68 Completed\n",
      "Epoch [4/4], Batch 69 Completed\n",
      "Epoch [4/4], Batch 70 Completed\n"
     ]
    },
    {
     "name": "stderr",
     "output_type": "stream",
     "text": [
      "/tmp/ipykernel_17881/2801393153.py:31: UserWarning: To copy construct from a tensor, it is recommended to use sourceTensor.clone().detach() or sourceTensor.clone().detach().requires_grad_(True), rather than torch.tensor(sourceTensor).\n",
      "  loss = criterion(outputs, torch.tensor(labels, dtype=torch.long))\n"
     ]
    },
    {
     "name": "stdout",
     "output_type": "stream",
     "text": [
      "Epoch [4/4], Batch 71 Completed\n",
      "Epoch [4/4], Batch 72 Completed\n",
      "Epoch [4/4], Batch 73 Completed\n",
      "Epoch [4/4], Batch 74 Completed\n",
      "Epoch [4/4], Batch 75 Completed\n",
      "Epoch [4/4], Batch 76 Completed\n",
      "Epoch [4/4], Batch 77 Completed\n",
      "Epoch [4/4], Loss: 0.9036130905151367\n",
      "Validation accuracy: 64.66666666666667 %\n"
     ]
    }
   ],
   "source": [
    "PatchList = ['set0.parquet', 'set1.parquet', 'set2.parquet', 'set3.parquet', 'set4.parquet', 'set5.parquet', 'set6.parquet', 'set7.parquet', 'set8.parquet', 'set9.parquet','set10.parquet']\n",
    "model = TrainBlock(PatchList, model)"
   ]
  },
  {
   "cell_type": "code",
   "execution_count": 31,
   "metadata": {},
   "outputs": [
    {
     "name": "stdout",
     "output_type": "stream",
     "text": [
      "Test accuracy: 70.0 %\n"
     ]
    }
   ],
   "source": [
    "model = TestBlock(['test_set1.parquet', 'test_set2.parquet', 'test_set3.parquet'])\n"
   ]
  },
  {
   "cell_type": "code",
   "execution_count": 32,
   "metadata": {},
   "outputs": [],
   "source": [
    "# Save Model\n",
    "torch.save(model.state_dict(), 'Resnet34Layer.pth')\n"
   ]
  }
 ],
 "metadata": {
  "kernelspec": {
   "display_name": "Python 3",
   "language": "python",
   "name": "python3"
  },
  "language_info": {
   "codemirror_mode": {
    "name": "ipython",
    "version": 3
   },
   "file_extension": ".py",
   "mimetype": "text/x-python",
   "name": "python",
   "nbconvert_exporter": "python",
   "pygments_lexer": "ipython3",
   "version": "3.10.12"
  }
 },
 "nbformat": 4,
 "nbformat_minor": 2
}
